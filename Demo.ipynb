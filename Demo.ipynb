{
 "cells": [
  {
   "cell_type": "code",
   "execution_count": 28,
   "metadata": {
    "collapsed": true
   },
   "outputs": [],
   "source": [
    "from __future__ import absolute_import\n",
    "import numpy as np\n",
    "from mDAG_advanced import mDAG\n",
    "from hypergraphs import LabelledHypergraph\n",
    "from directed_structures import LabelledDirectedStructure\n",
    "import itertools"
   ]
  },
  {
   "cell_type": "code",
   "execution_count": 13,
   "outputs": [],
   "source": [
    "IV_ds = LabelledDirectedStructure(variable_names=[\"X\",\"A\",\"B\"],\n",
    "                                  edge_list=[(\"X\",\"A\"), (\"A\",\"B\")])\n",
    "IV_sc = LabelledHypergraph(variable_names=[\"X\",\"A\",\"B\"],\n",
    "                           simplicial_complex=[(\"A\",\"B\")])\n",
    "IV_mDAG = mDAG(directed_structure_instance=IV_ds,\n",
    "               simplicial_complex_instance=IV_sc)\n",
    "\n",
    "UC_ds = LabelledDirectedStructure(variable_names=[\"A\",\"X\",\"B\"],\n",
    "                                  edge_list=[(\"X\",\"A\"), (\"X\",\"B\")])\n",
    "UC_sc = LabelledHypergraph(variable_names=[\"A\",\"X\",\"B\"],\n",
    "                           simplicial_complex=[(\"X\",\"A\"),(\"X\",\"B\")])\n",
    "UC_mDAG = mDAG(directed_structure_instance=UC_ds,\n",
    "               simplicial_complex_instance=UC_sc)"
   ],
   "metadata": {
    "collapsed": false,
    "pycharm": {
     "name": "#%%\n"
    }
   }
  },
  {
   "cell_type": "code",
   "execution_count": 14,
   "outputs": [
    {
     "name": "stdout",
     "output_type": "stream",
     "text": [
      "d_sep:  set()\n",
      "e_sep:  {((0, 2), (), (1,))}\n",
      "Skeleton:  [(0,1),(1,2)]\n"
     ]
    }
   ],
   "source": [
    "print(\"d_sep: \", IV_mDAG.all_CI)\n",
    "print(\"e_sep: \", IV_mDAG.all_esep)\n",
    "print(\"Skeleton: \", IV_mDAG.skeleton_instance.as_string)"
   ],
   "metadata": {
    "collapsed": false,
    "pycharm": {
     "name": "#%%\n"
    }
   }
  },
  {
   "cell_type": "code",
   "execution_count": 17,
   "outputs": [
    {
     "name": "stdout",
     "output_type": "stream",
     "text": [
      "e_sep:  {((0, 2), (), (1,))}\n",
      "Same e_sep:  True\n"
     ]
    }
   ],
   "source": [
    "print(\"e_sep: \", UC_mDAG.all_esep)\n",
    "print(\"Same e_sep: \", IV_mDAG.all_esep == UC_mDAG.all_esep)"
   ],
   "metadata": {
    "collapsed": false,
    "pycharm": {
     "name": "#%%\n"
    }
   }
  },
  {
   "cell_type": "code",
   "execution_count": 33,
   "outputs": [
    {
     "name": "stdout",
     "output_type": "stream",
     "text": [
      "Infeasible supports:  (5,)\n",
      "Infeasible supports beyond e_sep:  ()\n",
      "Infeasible supports beyond e_sep:  True\n"
     ]
    },
    {
     "data": {
      "text/plain": "array([[[0, 0, 0],\n        [0, 0, 0],\n        [0, 0, 0],\n        [0, 0, 0],\n        [0, 0, 0],\n        [0, 0, 0],\n        [0, 0, 0],\n        [1, 0, 1]],\n\n       [[0, 0, 0],\n        [0, 0, 0],\n        [0, 0, 0],\n        [0, 0, 0],\n        [0, 0, 0],\n        [0, 0, 0],\n        [0, 0, 1],\n        [1, 0, 0]],\n\n       [[0, 0, 0],\n        [0, 0, 0],\n        [0, 0, 0],\n        [0, 0, 0],\n        [0, 0, 0],\n        [0, 0, 0],\n        [0, 1, 0],\n        [1, 0, 1]],\n\n       [[0, 0, 0],\n        [0, 0, 0],\n        [0, 0, 0],\n        [0, 0, 0],\n        [0, 0, 0],\n        [0, 0, 0],\n        [0, 1, 1],\n        [1, 0, 1]],\n\n       [[0, 0, 0],\n        [0, 0, 0],\n        [0, 0, 0],\n        [0, 0, 0],\n        [0, 0, 0],\n        [0, 0, 1],\n        [0, 1, 0],\n        [1, 0, 0]],\n\n       [[0, 0, 0],\n        [0, 0, 0],\n        [0, 0, 0],\n        [0, 0, 0],\n        [0, 0, 0],\n        [0, 0, 1],\n        [0, 1, 0],\n        [1, 0, 1]],\n\n       [[0, 0, 0],\n        [0, 0, 0],\n        [0, 0, 0],\n        [0, 0, 0],\n        [0, 0, 0],\n        [0, 0, 1],\n        [0, 1, 0],\n        [1, 1, 1]],\n\n       [[0, 0, 0],\n        [0, 0, 0],\n        [0, 0, 0],\n        [0, 0, 0],\n        [0, 0, 0],\n        [0, 0, 1],\n        [0, 1, 1],\n        [1, 0, 0]],\n\n       [[0, 0, 0],\n        [0, 0, 0],\n        [0, 0, 0],\n        [0, 0, 0],\n        [0, 0, 0],\n        [0, 1, 0],\n        [0, 1, 1],\n        [1, 0, 1]],\n\n       [[0, 0, 0],\n        [0, 0, 0],\n        [0, 0, 0],\n        [0, 0, 0],\n        [0, 0, 1],\n        [0, 1, 0],\n        [0, 1, 1],\n        [1, 0, 0]]], dtype=uint8)"
     },
     "execution_count": 33,
     "metadata": {},
     "output_type": "execute_result"
    }
   ],
   "source": [
    "\n",
    "print(\"Infeasible supports: \", IV_mDAG.infeasible_binary_supports_n_events(2))\n",
    "print(\"Infeasible supports beyond e_sep: \", IV_mDAG.smart_infeasible_binary_supports_n_events(2))\n",
    "print(\"Infeasible supports beyond e_sep: \", IV_mDAG.no_infeasible_supports_beyond_esep_up_to(2))\n",
    "\n",
    "IV_mDAG.smart_support_testing_instance(8).from_integer_to_matrix(\n",
    "    list(itertools.chain.from_iterable(\n",
    "        (IV_mDAG.infeasible_binary_supports_n_events(n) for n in range(2,7))\n",
    ")))"
   ],
   "metadata": {
    "collapsed": false,
    "pycharm": {
     "name": "#%%\n"
    }
   }
  },
  {
   "cell_type": "code",
   "execution_count": 40,
   "outputs": [
    {
     "name": "stdout",
     "output_type": "stream",
     "text": [
      "(21, 29)\n"
     ]
    },
    {
     "data": {
      "text/plain": "True"
     },
     "execution_count": 40,
     "metadata": {},
     "output_type": "execute_result"
    }
   ],
   "source": [
    "print(IV_mDAG.smart_infeasible_binary_supports_n_events(3))\n",
    "\n",
    "all((\n",
    "    IV_mDAG.smart_infeasible_binary_supports_n_events(n)==\n",
    "    IV_mDAG.smart_infeasible_binary_supports_n_events(n)\n",
    "    for n in range(2,7)))\n"
   ],
   "metadata": {
    "collapsed": false,
    "pycharm": {
     "name": "#%%\n"
    }
   }
  },
  {
   "cell_type": "code",
   "execution_count": 43,
   "outputs": [
    {
     "name": "stderr",
     "output_type": "stream",
     "text": [
      "[nof_events=4] 1581 of 1581|################################| (Time:  0:00:03) \n",
      "[nof_events=4] 1581 of 1581|################################| (Time:  0:00:03) \n"
     ]
    },
    {
     "name": "stdout",
     "output_type": "stream",
     "text": [
      "Number of infeasible in strong mDAG:  917\n",
      "Number of infeasible in weak mDAG:  933\n",
      "Number of examples that differ:  16\n",
      "An example of a support in one but not the other:\n",
      "[[0 0 0 0 0]\n",
      " [0 0 1 1 0]\n",
      " [1 0 0 0 0]\n",
      " [1 1 0 1 0]]\n"
     ]
    }
   ],
   "source": [
    "#Example for Ilya\n",
    "ILYA_ds = LabelledDirectedStructure(\n",
    "    variable_names=[\"X\", \"A\", \"B\", \"C\", \"D\"],\n",
    "    edge_list=[(\"C\",\"A\"), (\"C\",\"B\"), (\"X\",\"C\"), (\"D\",\"A\"), (\"D\",\"B\")]\n",
    ")\n",
    "\n",
    "ILYA_sc1 = LabelledHypergraph(\n",
    "    variable_names=[\"X\", \"A\", \"B\", \"C\", \"D\"],\n",
    "    simplicial_complex=[(\"A\", \"X\", \"D\"), (\"B\", \"X\", \"D\"), (\"A\", \"C\")]\n",
    ")\n",
    "ILYA_sc2 = LabelledHypergraph(\n",
    "    variable_names=[\"X\", \"A\", \"B\", \"C\", \"D\"],\n",
    "    simplicial_complex=[(\"A\", \"X\", \"D\"), (\"B\", \"X\", \"D\")]\n",
    ")\n",
    "#Ilya's sc2 is weaker than sc1. Let's show that it matters.\n",
    "ILYA_mDAG1=mDAG(directed_structure_instance=ILYA_ds,\n",
    "                simplicial_complex_instance=ILYA_sc1)\n",
    "ILYA_mDAG2=mDAG(directed_structure_instance=ILYA_ds,\n",
    "                simplicial_complex_instance=ILYA_sc2)\n",
    "strong_one_infeasible_supports=ILYA_mDAG1.smart_infeasible_binary_supports_n_events(4, verbose=True)\n",
    "weak_one_infeasible_supports=ILYA_mDAG2.smart_infeasible_binary_supports_n_events(4, verbose=True)\n",
    "\n",
    "supports_infeasible_only_in_weak = tuple(set(weak_one_infeasible_supports).difference(\n",
    "    strong_one_infeasible_supports))\n",
    "print(\"Number of infeasible in strong mDAG: \", len(strong_one_infeasible_supports))\n",
    "print(\"Number of infeasible in weak mDAG: \", len(weak_one_infeasible_supports))\n",
    "print(\"Number of examples that differ: \", len(supports_infeasible_only_in_weak))\n",
    "\n",
    "print(\"An example of a support in one but not the other:\")\n",
    "print(ILYA_mDAG2.smart_support_testing_instance(4).from_integer_to_matrix(\n",
    "    supports_infeasible_only_in_weak[0]\n",
    "))"
   ],
   "metadata": {
    "collapsed": false,
    "pycharm": {
     "name": "#%%\n"
    }
   }
  },
  {
   "cell_type": "code",
   "execution_count": null,
   "outputs": [],
   "source": [
    "#I suppose one might want to figure out all the mDAGs which are equivalent to a given mDAG.\n",
    "# At the moment this is not implemented."
   ],
   "metadata": {
    "collapsed": false,
    "pycharm": {
     "name": "#%%\n"
    }
   }
  }
 ],
 "metadata": {
  "kernelspec": {
   "name": "pycharm-6ffa043b",
   "language": "python",
   "display_name": "PyCharm (equivalent_mDAGs)"
  },
  "language_info": {
   "codemirror_mode": {
    "name": "ipython",
    "version": 2
   },
   "file_extension": ".py",
   "mimetype": "text/x-python",
   "name": "python",
   "nbconvert_exporter": "python",
   "pygments_lexer": "ipython2",
   "version": "2.7.6"
  }
 },
 "nbformat": 4,
 "nbformat_minor": 0
}
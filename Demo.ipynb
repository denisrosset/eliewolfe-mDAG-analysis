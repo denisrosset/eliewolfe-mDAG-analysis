{
 "cells": [
  {
   "cell_type": "code",
   "execution_count": 1,
   "metadata": {
    "collapsed": true
   },
   "outputs": [],
   "source": [
    "from __future__ import absolute_import\n",
    "import numpy as np\n",
    "from mDAG_advanced import mDAG\n",
    "from hypergraphs import LabelledHypergraph\n",
    "from directed_structures import LabelledDirectedStructure\n",
    "import itertools"
   ]
  },
  {
   "cell_type": "code",
   "execution_count": 2,
   "outputs": [
    {
     "name": "stdout",
     "output_type": "stream",
     "text": [
      "{X:[A],A:[B],B:[]}|[(A,B)]\n"
     ]
    }
   ],
   "source": [
    "IV_ds = LabelledDirectedStructure(variable_names=[\"X\",\"A\",\"B\"],\n",
    "                                  edge_list=[(\"X\",\"A\"), (\"A\",\"B\")])\n",
    "IV_sc = LabelledHypergraph(variable_names=[\"X\",\"A\",\"B\"],\n",
    "                           simplicial_complex=[(\"A\",\"B\")])\n",
    "IV_mDAG = mDAG(directed_structure_instance=IV_ds,\n",
    "               simplicial_complex_instance=IV_sc)\n",
    "\n",
    "UC_ds = LabelledDirectedStructure(variable_names=[\"X\",\"A\",\"B\"],\n",
    "                                  edge_list=[(\"A\",\"X\"), (\"A\",\"B\")])\n",
    "UC_sc = LabelledHypergraph(variable_names=[\"X\",\"A\",\"B\"],\n",
    "                           simplicial_complex=[(\"A\",\"X\"),(\"A\",\"B\")])\n",
    "UC_mDAG = mDAG(directed_structure_instance=UC_ds,\n",
    "               simplicial_complex_instance=UC_sc)\n",
    "\n",
    "print(IV_mDAG)"
   ],
   "metadata": {
    "collapsed": false,
    "pycharm": {
     "name": "#%%\n"
    }
   }
  },
  {
   "cell_type": "code",
   "execution_count": 3,
   "outputs": [
    {
     "name": "stdout",
     "output_type": "stream",
     "text": [
      "IV d_sep:  set()\n",
      "IV e_sep:  {(('B', 'X'), (), ('A',))}\n",
      "IV Skeleton:  14\n",
      "IV Skeleton:  [(A,B),(A,X)]\n",
      "IV Densely connected pairs:  {('A', 'X'), ('A', 'B'), ('B', 'X')}\n"
     ]
    }
   ],
   "source": [
    "print(\"IV d_sep: \", IV_mDAG.all_CI)\n",
    "print(\"IV e_sep: \", IV_mDAG.all_esep)\n",
    "print(\"IV Skeleton: \", IV_mDAG.skeleton)\n",
    "print(\"IV Skeleton: \", IV_mDAG.skeleton_instance.as_string)\n",
    "print(\"IV Densely connected pairs: \", IV_mDAG.all_densely_connected_pairs)"
   ],
   "metadata": {
    "collapsed": false,
    "pycharm": {
     "name": "#%%\n"
    }
   }
  },
  {
   "cell_type": "code",
   "execution_count": 4,
   "outputs": [
    {
     "name": "stdout",
     "output_type": "stream",
     "text": [
      "UC e_sep:  {(('B', 'X'), (), ('A',))}\n",
      "UC Densely connected pairs:  {('A', 'X'), ('A', 'B'), ('B', 'X')}\n",
      "Same e_sep:  True\n"
     ]
    }
   ],
   "source": [
    "print(\"UC e_sep: \", UC_mDAG.all_esep)\n",
    "print(\"UC Densely connected pairs: \", UC_mDAG.all_densely_connected_pairs)\n",
    "print(\"Same e_sep: \", IV_mDAG.all_esep == UC_mDAG.all_esep)"
   ],
   "metadata": {
    "collapsed": false,
    "pycharm": {
     "name": "#%%\n"
    }
   }
  },
  {
   "cell_type": "code",
   "execution_count": 5,
   "outputs": [
    {
     "name": "stdout",
     "output_type": "stream",
     "text": [
      "IV infeasible supports over 2 events:  [[[0 0 0]\n",
      "  [1 0 1]]]\n",
      "IV infeasible supports beyond e_sep over 2 events:  []\n",
      "No infeasible supports beyond e_sep over 2 events:  True\n",
      "UC infeasible supports beyond e-sep:  []\n",
      "IV infeasible supports beyond e-sep: \n",
      "[[0 0 0]\n",
      " [0 1 0]\n",
      " [1 0 1]]\n",
      "[[0 0 0]\n",
      " [0 1 1]\n",
      " [1 0 1]]\n",
      "[[0 0 0]\n",
      " [0 0 1]\n",
      " [0 1 0]\n",
      " [1 0 0]]\n",
      "[[0 0 0]\n",
      " [0 0 1]\n",
      " [0 1 0]\n",
      " [1 0 1]]\n",
      "[[0 0 0]\n",
      " [0 0 1]\n",
      " [0 1 0]\n",
      " [1 1 1]]\n",
      "[[0 0 0]\n",
      " [0 0 1]\n",
      " [0 1 1]\n",
      " [1 0 0]]\n",
      "[[0 0 0]\n",
      " [0 1 0]\n",
      " [0 1 1]\n",
      " [1 0 1]]\n",
      "[[0 0 0]\n",
      " [0 0 1]\n",
      " [0 1 0]\n",
      " [0 1 1]\n",
      " [1 0 0]]\n"
     ]
    }
   ],
   "source": [
    "\n",
    "print(\"IV infeasible supports over 2 events: \", IV_mDAG.infeasible_binary_supports_n_events_as_matrices(2))\n",
    "print(\"IV infeasible supports beyond e_sep over 2 events: \", IV_mDAG.infeasible_binary_supports_n_events_beyond_esep_as_matrices(2))\n",
    "print(\"No infeasible supports beyond e_sep over 2 events: \", IV_mDAG.no_infeasible_binary_supports_beyond_esep(2))\n",
    "\n",
    "print(\"UC infeasible supports beyond e-sep: \", UC_mDAG.infeasible_binary_supports_beyond_esep_as_matrices_up_to(7))\n",
    "print(\"IV infeasible supports beyond e-sep: \")\n",
    "for mat in IV_mDAG.infeasible_binary_supports_beyond_esep_as_matrices_up_to(7):\n",
    "    print(mat)\n"
   ],
   "metadata": {
    "collapsed": false,
    "pycharm": {
     "name": "#%%\n"
    }
   }
  },
  {
   "cell_type": "code",
   "execution_count": 6,
   "outputs": [
    {
     "name": "stdout",
     "output_type": "stream",
     "text": [
      "[[[0 0 0]\n",
      "  [0 1 0]\n",
      "  [1 0 1]]\n",
      "\n",
      " [[0 0 0]\n",
      "  [0 1 1]\n",
      "  [1 0 1]]]\n",
      "[]\n"
     ]
    }
   ],
   "source": [
    "print(IV_mDAG.infeasible_binary_supports_n_events_beyond_esep_as_matrices(3))\n",
    "print(UC_mDAG.infeasible_binary_supports_n_events_beyond_esep_as_matrices(3))\n"
   ],
   "metadata": {
    "collapsed": false,
    "pycharm": {
     "name": "#%%\n"
    }
   }
  },
  {
   "cell_type": "code",
   "execution_count": 7,
   "outputs": [
    {
     "name": "stdout",
     "output_type": "stream",
     "text": [
      "Same e_sep?  True\n"
     ]
    },
    {
     "name": "stderr",
     "output_type": "stream",
     "text": [
      "[nof_events=4] 1581 of 1581|################################| (Time:  0:00:03) \n",
      "[nof_events=4] 1581 of 1581|################################| (Time:  0:00:03) \n"
     ]
    },
    {
     "name": "stdout",
     "output_type": "stream",
     "text": [
      "Number of infeasible in strong mDAG:  917\n",
      "Number of infeasible in weak mDAG:  933\n",
      "Number of examples that differ:  16\n",
      "An example of a support in one but not the other:\n",
      "[[0 0 0 0 0]\n",
      " [0 0 1 1 0]\n",
      " [1 0 0 0 0]\n",
      " [1 1 0 1 0]]\n"
     ]
    }
   ],
   "source": [
    "#Example for Ilya\n",
    "ILYA_ds = LabelledDirectedStructure(\n",
    "    variable_names=[\"X\", \"A\", \"B\", \"C\", \"D\"],\n",
    "    edge_list=[(\"C\",\"A\"), (\"C\",\"B\"), (\"X\",\"C\"), (\"D\",\"A\"), (\"D\",\"B\")]\n",
    ")\n",
    "\n",
    "ILYA_sc1 = LabelledHypergraph(\n",
    "    variable_names=[\"X\", \"A\", \"B\", \"C\", \"D\"],\n",
    "    simplicial_complex=[(\"A\", \"X\", \"D\"), (\"B\", \"X\", \"D\"), (\"A\", \"C\")]\n",
    ")\n",
    "ILYA_sc2 = LabelledHypergraph(\n",
    "    variable_names=[\"X\", \"A\", \"B\", \"C\", \"D\"],\n",
    "    simplicial_complex=[(\"A\", \"X\", \"D\"), (\"B\", \"X\", \"D\")]\n",
    ")\n",
    "\n",
    "#Ilya's sc2 is weaker than sc1. Let's show that it matters.\n",
    "ILYA_mDAG1=mDAG(directed_structure_instance=ILYA_ds,\n",
    "                simplicial_complex_instance=ILYA_sc1)\n",
    "ILYA_mDAG2=mDAG(directed_structure_instance=ILYA_ds,\n",
    "                simplicial_complex_instance=ILYA_sc2)\n",
    "\n",
    "print(\"Same e_sep? \", ILYA_mDAG1.all_esep == ILYA_mDAG2.all_esep)\n",
    "\n",
    "strong_one_infeasible_supports=ILYA_mDAG1.infeasible_binary_supports_n_events_beyond_esep(4, verbose=True)\n",
    "weak_one_infeasible_supports=ILYA_mDAG2.infeasible_binary_supports_n_events_beyond_esep(4, verbose=True)\n",
    "\n",
    "supports_infeasible_only_in_weak = tuple(set(weak_one_infeasible_supports).difference(\n",
    "    strong_one_infeasible_supports))\n",
    "print(\"Number of infeasible in strong mDAG: \", len(strong_one_infeasible_supports))\n",
    "print(\"Number of infeasible in weak mDAG: \", len(weak_one_infeasible_supports))\n",
    "print(\"Number of examples that differ: \", len(supports_infeasible_only_in_weak))\n",
    "\n",
    "print(\"An example of a support in one but not the other:\")\n",
    "print(ILYA_mDAG2.support_testing_instance_binary(4).from_integer_to_matrix(\n",
    "    supports_infeasible_only_in_weak[0]\n",
    "))"
   ],
   "metadata": {
    "collapsed": false,
    "pycharm": {
     "name": "#%%\n"
    }
   }
  },
  {
   "cell_type": "code",
   "execution_count": 8,
   "outputs": [
    {
     "name": "stdout",
     "output_type": "stream",
     "text": [
      "{('A', 'X'), ('B', 'C'), ('C', 'X'), ('A', 'C'), ('A', 'D'), ('D', 'X'), ('B', 'D'), ('A', 'B'), ('B', 'X')}\n",
      "{('A', 'X'), ('B', 'C'), ('C', 'X'), ('A', 'C'), ('A', 'D'), ('D', 'X'), ('B', 'D'), ('A', 'B'), ('B', 'X')}\n"
     ]
    }
   ],
   "source": [
    "#I suppose one might want to figure out all the mDAGs which are equivalent to a given mDAG.\n",
    "# At the moment this is not implemented.\n",
    "print(ILYA_mDAG1.all_densely_connected_pairs)\n",
    "print(ILYA_mDAG2.all_densely_connected_pairs)"
   ],
   "metadata": {
    "collapsed": false,
    "pycharm": {
     "name": "#%%\n"
    }
   }
  },
  {
   "cell_type": "code",
   "execution_count": 9,
   "outputs": [
    {
     "data": {
      "text/plain": "9"
     },
     "execution_count": 9,
     "metadata": {},
     "output_type": "execute_result"
    }
   ],
   "source": [
    "len(ILYA_mDAG2.all_densely_connected_pairs)"
   ],
   "metadata": {
    "collapsed": false,
    "pycharm": {
     "name": "#%%\n"
    }
   }
  },
  {
   "cell_type": "code",
   "execution_count": 14,
   "outputs": [
    {
     "name": "stdout",
     "output_type": "stream",
     "text": [
      "Testing  2  event supports:\n",
      "No infeasible beyond esep?:  True\n",
      "Testing  3  event supports:\n",
      "No infeasible beyond esep?:  True\n",
      "Testing  4  event supports:\n",
      "No infeasible beyond esep?:  True\n"
     ]
    }
   ],
   "source": [
    "for n in range(2,5):\n",
    "    print(\"Testing \",n,\" event supports:\")\n",
    "    print(\"No infeasible beyond esep?: \",\n",
    "          UC_mDAG.support_testing_instance((4,4,4),n).no_infeasible_supports_beyond_esep(verbose=True))"
   ],
   "metadata": {
    "collapsed": false,
    "pycharm": {
     "name": "#%%\n"
    }
   }
  },
  {
   "cell_type": "code",
   "execution_count": null,
   "outputs": [],
   "source": [],
   "metadata": {
    "collapsed": false,
    "pycharm": {
     "name": "#%%\n"
    }
   }
  }
 ],
 "metadata": {
  "kernelspec": {
   "name": "idp2",
   "language": "python",
   "display_name": "idp2"
  },
  "language_info": {
   "codemirror_mode": {
    "name": "ipython",
    "version": 2
   },
   "file_extension": ".py",
   "mimetype": "text/x-python",
   "name": "python",
   "nbconvert_exporter": "python",
   "pygments_lexer": "ipython2",
   "version": "2.7.6"
  }
 },
 "nbformat": 4,
 "nbformat_minor": 0
}